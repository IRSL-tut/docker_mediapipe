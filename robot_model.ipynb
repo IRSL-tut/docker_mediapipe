{
 "cells": [
  {
   "cell_type": "code",
   "execution_count": 1,
   "id": "9347069f-13d6-46a6-a323-7d083448606b",
   "metadata": {},
   "outputs": [],
   "source": [
    "exec(open('/choreonoid_ws/install/share/irsl_choreonoid/sample/irsl_import.py').read())"
   ]
  },
  {
   "cell_type": "markdown",
   "id": "b9072797-8b65-469e-86a8-a5f0b049d9c0",
   "metadata": {},
   "source": [
    "## ロボットのロード"
   ]
  },
  {
   "cell_type": "code",
   "execution_count": 3,
   "id": "82c4b5ab-ff50-49ea-af3c-92df2729e306",
   "metadata": {},
   "outputs": [],
   "source": [
    "fname = 'models/JVRC-1/main.wrl'\n",
    "rb = ib.loadRobotItem(fname, world=False) ## in choreonoid GUI\n",
    "robot = RobotModel(rb)"
   ]
  },
  {
   "cell_type": "markdown",
   "id": "bfe41d72-b7db-4dfc-8633-d94a2d96bba4",
   "metadata": {},
   "source": [
    "## リンクの名前"
   ]
  },
  {
   "cell_type": "code",
   "execution_count": 4,
   "id": "934c858e-17b0-417e-b207-8a80150caba2",
   "metadata": {},
   "outputs": [
    {
     "data": {
      "text/plain": [
       "['PELVIS', 'R_HIP_P', 'R_HIP_R', 'R_HIP_Y', 'R_KNEE', 'R_ANKLE_R', 'R_ANKLE_P', 'L_HIP_P', 'L_HIP_R', 'L_HIP_Y', 'L_KNEE', 'L_ANKLE_R', 'L_ANKLE_P', 'WAIST_Y', 'WAIST_P', 'WAIST_R', 'NECK_Y', 'NECK_R', 'NECK_P', 'R_SHOULDER_P', 'R_SHOULDER_R', 'R_SHOULDER_Y', 'R_ELBOW_P', 'R_ELBOW_Y', 'R_WRIST_R', 'R_WRIST_Y', 'R_UTHUMB', 'R_LTHUMB', 'R_UINDEX', 'R_LINDEX', 'R_ULITTLE', 'R_LLITTLE', 'L_SHOULDER_P', 'L_SHOULDER_R', 'L_SHOULDER_Y', 'L_ELBOW_P', 'L_ELBOW_Y', 'L_WRIST_R', 'L_WRIST_Y', 'L_UTHUMB', 'L_LTHUMB', 'L_UINDEX', 'L_LINDEX', 'L_ULITTLE', 'L_LLITTLE']"
      ]
     },
     "execution_count": 4,
     "metadata": {},
     "output_type": "execute_result"
    }
   ],
   "source": [
    "robot.linkNames"
   ]
  },
  {
   "cell_type": "markdown",
   "id": "8c4fd5ae-e70a-43ba-af5e-2209d220a367",
   "metadata": {},
   "source": [
    "## 関節の名前\n",
    "リンク側には動く関節ではない'PELVIS'が入っている\n",
    "ここではリンクの名前と同じ（異なる場合もある）"
   ]
  },
  {
   "cell_type": "code",
   "execution_count": 5,
   "id": "68eae69e-c183-497a-8843-633cec1d43ca",
   "metadata": {},
   "outputs": [
    {
     "data": {
      "text/plain": [
       "['R_HIP_P', 'R_HIP_R', 'R_HIP_Y', 'R_KNEE', 'R_ANKLE_R', 'R_ANKLE_P', 'L_HIP_P', 'L_HIP_R', 'L_HIP_Y', 'L_KNEE', 'L_ANKLE_R', 'L_ANKLE_P', 'WAIST_Y', 'WAIST_P', 'WAIST_R', 'NECK_Y', 'NECK_R', 'NECK_P', 'R_SHOULDER_P', 'R_SHOULDER_R', 'R_SHOULDER_Y', 'R_ELBOW_P', 'R_ELBOW_Y', 'R_WRIST_R', 'R_WRIST_Y', 'R_UTHUMB', 'R_LTHUMB', 'R_UINDEX', 'R_LINDEX', 'R_ULITTLE', 'R_LLITTLE', 'L_SHOULDER_P', 'L_SHOULDER_R', 'L_SHOULDER_Y', 'L_ELBOW_P', 'L_ELBOW_Y', 'L_WRIST_R', 'L_WRIST_Y', 'L_UTHUMB', 'L_LTHUMB', 'L_UINDEX', 'L_LINDEX', 'L_ULITTLE', 'L_LLITTLE']"
      ]
     },
     "execution_count": 5,
     "metadata": {},
     "output_type": "execute_result"
    }
   ],
   "source": [
    "robot.jointNames"
   ]
  },
  {
   "cell_type": "markdown",
   "id": "7ff6ef64-a049-4454-88ad-2caa20b2c4a8",
   "metadata": {},
   "source": [
    "## 関節へのアクセス"
   ]
  },
  {
   "cell_type": "code",
   "execution_count": 6,
   "id": "b3352ddc-afb9-483e-98d6-64657f20ed92",
   "metadata": {},
   "outputs": [
    {
     "data": {
      "text/plain": [
       "<cnoid.Body.Link named 'R_HIP_R'>"
      ]
     },
     "execution_count": 6,
     "metadata": {},
     "output_type": "execute_result"
    }
   ],
   "source": [
    "robot.joint('R_HIP_R')"
   ]
  },
  {
   "cell_type": "markdown",
   "id": "af417b28-f0f2-498e-a9b3-214b79c36ebd",
   "metadata": {},
   "source": [
    "### 関節角度へのアクセス"
   ]
  },
  {
   "cell_type": "code",
   "execution_count": 7,
   "id": "2107a3eb-afd8-4555-a2f2-df18f104c04c",
   "metadata": {},
   "outputs": [
    {
     "data": {
      "text/plain": [
       "0.0"
      ]
     },
     "execution_count": 7,
     "metadata": {},
     "output_type": "execute_result"
    }
   ],
   "source": [
    "robot.jointAngle('R_HIP_R')"
   ]
  },
  {
   "cell_type": "markdown",
   "id": "576b0fde-efff-40bf-a248-6e49b7fff213",
   "metadata": {},
   "source": [
    "### 関節角度の設定（単関節）"
   ]
  },
  {
   "cell_type": "code",
   "execution_count": 8,
   "id": "d1f91a77-6386-403e-9c30-148e03e3d896",
   "metadata": {},
   "outputs": [
    {
     "data": {
      "text/plain": [
       "-0.7853981633974483"
      ]
     },
     "execution_count": 8,
     "metadata": {},
     "output_type": "execute_result"
    }
   ],
   "source": [
    "robot.jointAngle('R_HIP_R', -PI/4)"
   ]
  },
  {
   "cell_type": "markdown",
   "id": "f0bc7e47-49da-4a3e-8cfd-9709bead7c09",
   "metadata": {},
   "source": [
    "### 関節角度へのアクセス（ベクトル）"
   ]
  },
  {
   "cell_type": "code",
   "execution_count": 9,
   "id": "05ce168d-1a35-4f67-a6e7-b650ed0caa87",
   "metadata": {},
   "outputs": [
    {
     "data": {
      "text/plain": [
       "array([ 0.        , -0.78539816,  0.        ,  0.        ,  0.        ,\n",
       "        0.        ,  0.        ,  0.        ,  0.        ,  0.        ,\n",
       "        0.        ,  0.        ,  0.        ,  0.        ,  0.        ,\n",
       "        0.        ,  0.        ,  0.        ,  0.        ,  0.        ,\n",
       "        0.        ,  0.        ,  0.        ,  0.        ,  0.        ,\n",
       "        0.        ,  0.        ,  0.        ,  0.        ,  0.        ,\n",
       "        0.        ,  0.        ,  0.        ,  0.        ,  0.        ,\n",
       "        0.        ,  0.        ,  0.        ,  0.        ,  0.        ,\n",
       "        0.        ,  0.        ,  0.        ,  0.        ])"
      ]
     },
     "execution_count": 9,
     "metadata": {},
     "output_type": "execute_result"
    }
   ],
   "source": [
    "vec = robot.angleVector()\n",
    "vec"
   ]
  },
  {
   "cell_type": "markdown",
   "id": "eb082c0d-51dc-4fb3-82b6-d56c5dd7d36c",
   "metadata": {},
   "source": [
    "### 関節角度の設定（ベクトル）"
   ]
  },
  {
   "cell_type": "code",
   "execution_count": 10,
   "id": "3bffd245-23e2-4186-bbba-f8ec085e6b71",
   "metadata": {},
   "outputs": [],
   "source": [
    "vec[3] = PI/6\n",
    "robot.angleVector(vec)"
   ]
  },
  {
   "cell_type": "markdown",
   "id": "7aa86ae8-180e-4728-a95a-a2a3e891b5f3",
   "metadata": {},
   "source": [
    "### 関節角度の設定（辞書型）"
   ]
  },
  {
   "cell_type": "code",
   "execution_count": 12,
   "id": "8878f563-2c23-4ef3-a8c5-10e0388e4c03",
   "metadata": {},
   "outputs": [
    {
     "data": {
      "text/plain": [
       "True"
      ]
     },
     "execution_count": 12,
     "metadata": {},
     "output_type": "execute_result"
    }
   ],
   "source": [
    "robot.setAngleMap({'L_HIP_P': -0.8, 'L_KNEE': 1.6})"
   ]
  },
  {
   "cell_type": "markdown",
   "id": "6de410dc-d922-4162-9b20-b1a9e3300c98",
   "metadata": {},
   "source": [
    "## ロボットの座標系"
   ]
  },
  {
   "cell_type": "code",
   "execution_count": 13,
   "id": "8d988e95-6c85-494d-9814-75828639a630",
   "metadata": {},
   "outputs": [
    {
     "data": {
      "text/plain": [
       "<coordinates[0x560b2c08fca0] 0 0 0.854 / 0 0 0 1 >"
      ]
     },
     "execution_count": 13,
     "metadata": {},
     "output_type": "execute_result"
    }
   ],
   "source": [
    "robot.rootCoords()"
   ]
  },
  {
   "cell_type": "markdown",
   "id": "cf783a42-9041-479d-b490-69f31664df1c",
   "metadata": {},
   "source": [
    "### ロボットの座標系の設定"
   ]
  },
  {
   "cell_type": "code",
   "execution_count": 17,
   "id": "7146245a-699c-4644-b822-e95b3e4c3bb6",
   "metadata": {},
   "outputs": [
    {
     "data": {
      "text/plain": [
       "<coordinates[0x560b2c29abb0] 0 0 0.2 / 0 0 0 1 >"
      ]
     },
     "execution_count": 17,
     "metadata": {},
     "output_type": "execute_result"
    }
   ],
   "source": [
    "cds = coordinates(npa([0, 0, 0.2]))\n",
    "robot.rootCoords(cds)"
   ]
  },
  {
   "cell_type": "markdown",
   "id": "ea003ec4-6c04-42c6-bc19-d68a494dd715",
   "metadata": {},
   "source": [
    "## JointGroupの設定"
   ]
  },
  {
   "cell_type": "code",
   "execution_count": 18,
   "id": "ac0621be-1bed-4a2a-bde0-0adbb8f503c1",
   "metadata": {},
   "outputs": [],
   "source": [
    "robot.registerEndEffector('larm', ## end-effector\n",
    "                          'L_WRIST_Y', ## tip-link\n",
    "                          joint_tuples = (('L_SHOULDER_P', 'shoulder-p'),\n",
    "                                          ('L_SHOULDER_R', 'shoulder-r'),\n",
    "                                          ('L_SHOULDER_Y', 'shoulder-y'),\n",
    "                                          ('L_ELBOW_P', 'elbow-p'),\n",
    "                                          ('L_ELBOW_Y', 'elbow-y'),\n",
    "                                          ('L_WRIST_R', 'wrist-r'),\n",
    "                                          ('L_WRIST_Y', 'wrist-y'),\n",
    "                                          )\n",
    "                          )\n",
    "robot.registerEndEffector('rarm', ## end-effector\n",
    "                          'R_WRIST_Y', ## tip-link\n",
    "                          joint_tuples = (('R_SHOULDER_P', 'shoulder-p'),\n",
    "                                          ('R_SHOULDER_R', 'shoulder-r'),\n",
    "                                          ('R_SHOULDER_Y', 'shoulder-y'),\n",
    "                                          ('R_ELBOW_P', 'elbow-p'),\n",
    "                                          ('R_ELBOW_Y', 'elbow-y'),\n",
    "                                          ('R_WRIST_R', 'wrist-r'),\n",
    "                                          ('R_WRIST_Y', 'wrist-y'),\n",
    "                                          )\n",
    "                          )"
   ]
  },
  {
   "cell_type": "markdown",
   "id": "202d1944-1415-44e3-b560-fe4b46c937e2",
   "metadata": {},
   "source": [
    "### EndEffector"
   ]
  },
  {
   "cell_type": "code",
   "execution_count": 19,
   "id": "63253f1c-a6fc-4ef0-80cb-5c38e022b6f4",
   "metadata": {},
   "outputs": [
    {
     "data": {
      "text/plain": [
       "<coordinates[0x560b2c077b50] 0 0.24 0.178 / 0 0 0 1 >"
      ]
     },
     "execution_count": 19,
     "metadata": {},
     "output_type": "execute_result"
    }
   ],
   "source": [
    "robot.larm.endEffector"
   ]
  },
  {
   "cell_type": "markdown",
   "id": "d141954e-219c-4e62-83b4-bcfed44ea534",
   "metadata": {},
   "source": [
    "### groupのangleVector"
   ]
  },
  {
   "cell_type": "code",
   "execution_count": 20,
   "id": "6ed6e3ad-489b-47e7-8a75-8b54236eb61d",
   "metadata": {},
   "outputs": [
    {
     "data": {
      "text/plain": [
       "array([0., 0., 0., 0., 0., 0., 0.])"
      ]
     },
     "execution_count": 20,
     "metadata": {},
     "output_type": "execute_result"
    }
   ],
   "source": [
    "robot.larm.angleVector()"
   ]
  },
  {
   "cell_type": "markdown",
   "id": "fae8ce6a-f68d-4409-a939-55dffd86d61e",
   "metadata": {},
   "source": [
    "## 逆運動学(InverseKinematics)"
   ]
  },
  {
   "cell_type": "code",
   "execution_count": 25,
   "id": "400f8d9a-25b8-4157-8a86-dcef143a93d5",
   "metadata": {},
   "outputs": [
    {
     "data": {
      "text/plain": [
       "<coordinates[0x560b2aa8d900] 0.05 0.24 0.378 / 0 0 0 1 >"
      ]
     },
     "execution_count": 25,
     "metadata": {},
     "output_type": "execute_result"
    }
   ],
   "source": [
    "tgt = robot.larm.endEffector\n",
    "tgt.translate(npa([0.05, 0, 0.2]), coordinates.wrt.world)"
   ]
  },
  {
   "cell_type": "markdown",
   "id": "15c4fac7-c223-4464-a997-b8ce01bfa12d",
   "metadata": {},
   "source": [
    "### 表示の準備"
   ]
  },
  {
   "cell_type": "code",
   "execution_count": 22,
   "id": "89358494-00d5-47b3-a60c-ff7a0f0142b8",
   "metadata": {},
   "outputs": [],
   "source": [
    "di=DrawInterface()"
   ]
  },
  {
   "cell_type": "markdown",
   "id": "e4c88855-dc74-4a04-9dbf-08a41921269d",
   "metadata": {},
   "source": [
    "### 座標系の表示"
   ]
  },
  {
   "cell_type": "code",
   "execution_count": 23,
   "id": "04ae844a-3349-43f9-b32f-02f4b2082fd0",
   "metadata": {},
   "outputs": [],
   "source": [
    "d0 = mkshapes.makeCoords(0.2)\n",
    "d1 = mkshapes.makeCoords(0.2)\n",
    "di.addObjects([d0, d1])"
   ]
  },
  {
   "cell_type": "markdown",
   "id": "6431d37f-9956-49f4-b850-be4161fa0c32",
   "metadata": {},
   "source": [
    "### 座標系の設定"
   ]
  },
  {
   "cell_type": "code",
   "execution_count": 26,
   "id": "9b5e8b42-9db6-45ed-966d-f446f5401762",
   "metadata": {},
   "outputs": [
    {
     "data": {
      "text/plain": [
       "Wrap: <coordinates[0x560b275af150] 0 0.24 0.178 / 0 0 0 1 > | <cnoid.Util.SgPosTransform object at 0x7f9efe5e2bb0>\n",
       "\n",
       "Wrap: <coordinates[0x560b29843c70] 0.05 0.24 0.378 / 0 0 0 1 > | <cnoid.Util.SgPosTransform object at 0x7f9efe5b97f0>"
      ]
     },
     "execution_count": 26,
     "metadata": {},
     "output_type": "execute_result"
    }
   ],
   "source": [
    "d0.newcoords(robot.larm.endEffector)\n",
    "d1.newcoords(tgt)"
   ]
  },
  {
   "cell_type": "markdown",
   "id": "a7d9bf0f-8e15-4113-9b0e-47ab9666de5a",
   "metadata": {},
   "source": [
    "### IKを解く"
   ]
  },
  {
   "cell_type": "code",
   "execution_count": 27,
   "id": "7bd33e04-505a-458b-9e12-5cea4bd31b72",
   "metadata": {},
   "outputs": [
    {
     "data": {
      "text/plain": [
       "(False, 3232)"
      ]
     },
     "execution_count": 27,
     "metadata": {},
     "output_type": "execute_result"
    }
   ],
   "source": [
    "robot.larm.inverseKinematics(tgt, constraint='xyzRPY')"
   ]
  },
  {
   "cell_type": "markdown",
   "id": "7bed7194-5c0b-4e10-839c-a2e5706741ed",
   "metadata": {},
   "source": [
    "### IKを解く（ノイズを入れる）"
   ]
  },
  {
   "cell_type": "code",
   "execution_count": null,
   "id": "96460e94-254c-4017-8b5c-0deda7cde42f",
   "metadata": {},
   "outputs": [],
   "source": [
    "robot.larm.inverseKinematics(tgt, constraint='xyzRPY', add_noise=True)"
   ]
  },
  {
   "cell_type": "markdown",
   "id": "79a59966-017d-4cba-bd73-df1fbc8e6e19",
   "metadata": {},
   "source": [
    "### 関節角度のリセット"
   ]
  },
  {
   "cell_type": "code",
   "execution_count": 29,
   "id": "4b70f0ed-297c-4673-b412-1a151e6d6203",
   "metadata": {},
   "outputs": [],
   "source": [
    "robot.angleVector(npa([0.] * robot.numJoints))"
   ]
  },
  {
   "cell_type": "markdown",
   "id": "65a97230-d721-449f-a44e-411081246b46",
   "metadata": {},
   "source": [
    "### IKを解く（制約を緩くする）"
   ]
  },
  {
   "cell_type": "code",
   "execution_count": 31,
   "id": "a28f107e-8dd2-4be2-8c78-de2f6d47b0bd",
   "metadata": {},
   "outputs": [
    {
     "data": {
      "text/plain": [
       "(True, 3)"
      ]
     },
     "execution_count": 31,
     "metadata": {},
     "output_type": "execute_result"
    }
   ],
   "source": [
    "robot.larm.inverseKinematics(tgt, constraint='xyz')"
   ]
  },
  {
   "cell_type": "markdown",
   "id": "46a4c4bf-1a11-465d-b227-db56ba7803a1",
   "metadata": {},
   "source": [
    "### 再度 IKを解く"
   ]
  },
  {
   "cell_type": "code",
   "execution_count": 32,
   "id": "9012463a-5596-4afa-b883-8af2097ec401",
   "metadata": {},
   "outputs": [
    {
     "data": {
      "text/plain": [
       "(False, 3232)"
      ]
     },
     "execution_count": 32,
     "metadata": {},
     "output_type": "execute_result"
    }
   ],
   "source": [
    "robot.larm.inverseKinematics(tgt, constraint='xyzRPY')"
   ]
  },
  {
   "cell_type": "markdown",
   "id": "cf5de868-b91b-4a25-aaf7-73b854205b0c",
   "metadata": {},
   "source": [
    "### IKを解く（制約を緩くする）"
   ]
  },
  {
   "cell_type": "code",
   "execution_count": 33,
   "id": "22103e31-ac61-4e44-898d-4112a0ac4884",
   "metadata": {},
   "outputs": [
    {
     "data": {
      "text/plain": [
       "(True, 13)"
      ]
     },
     "execution_count": 33,
     "metadata": {},
     "output_type": "execute_result"
    }
   ],
   "source": [
    "robot.larm.inverseKinematics(tgt, constraint='xyzRPY', add_noise=0.3)"
   ]
  }
 ],
 "metadata": {
  "kernelspec": {
   "display_name": "Choreonoid",
   "language": "python",
   "name": "choreonoid"
  },
  "language_info": {
   "codemirror_mode": "",
   "file_extension": ".py",
   "mimetype": "text/x-python",
   "name": "python",
   "nbconvert_exporter": "",
   "pygments_lexer": "",
   "version": "3.7"
  }
 },
 "nbformat": 4,
 "nbformat_minor": 5
}
