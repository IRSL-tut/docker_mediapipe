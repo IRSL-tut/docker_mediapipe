{
 "cells": [
  {
   "cell_type": "code",
   "execution_count": 1,
   "id": "e6564a0f-7d9e-46f6-b644-614cc17d7cc5",
   "metadata": {},
   "outputs": [],
   "source": [
    "exec(open('/choreonoid_ws/install/share/irsl_choreonoid/sample/irsl_import.py').read())\n",
    "import yaml\n",
    "from irsl_choreonoid_ros.setup_cnoid import SetupCnoid"
   ]
  },
  {
   "cell_type": "markdown",
   "id": "c4d9aa32-1e5b-4a60-b260-ccf91b5837c9",
   "metadata": {},
   "source": [
    "## シーンのロード"
   ]
  },
  {
   "cell_type": "code",
   "execution_count": 2,
   "id": "3bf8b5bb-053a-415c-b38d-4f26cae95a7f",
   "metadata": {},
   "outputs": [],
   "source": [
    "info=yaml.safe_load(open('/choreonoid_ws/install/share/irsl_sim_environments/cnoid/world/lake_house_world.yaml'))\n",
    "cnoid=SetupCnoid(); cnoid.buildEnvironment(info, createWorld=True, setCamera=True)"
   ]
  },
  {
   "cell_type": "markdown",
   "id": "122a696e-52b9-41f4-83f8-fe01bc4b0e99",
   "metadata": {},
   "source": [
    "## ロボットの導入"
   ]
  },
  {
   "cell_type": "code",
   "execution_count": 3,
   "id": "4e0a9a83-f730-4f28-b1ea-5983646e87e5",
   "metadata": {},
   "outputs": [],
   "source": [
    "fname = 'models/JVRC-1/main.wrl'\n",
    "rb = ib.loadRobotItem(fname, world=False) ## in choreonoid GUI\n",
    "robot = RobotModel(rb)"
   ]
  },
  {
   "cell_type": "markdown",
   "id": "c4e2fd89-82ac-40df-be59-50e064c3c435",
   "metadata": {},
   "source": [
    "## 便利関数"
   ]
  },
  {
   "cell_type": "code",
   "execution_count": 119,
   "id": "b941f47a-b000-409f-8d80-e41a818404fd",
   "metadata": {},
   "outputs": [],
   "source": [
    "def makeListInterpolation(start, end, size=10):\n",
    "    res = [ start ]\n",
    "    for i in range(size-1):\n",
    "        rb_ = (i + 1)/size\n",
    "        ra_ = (size - i -1)/size\n",
    "        lst_=[]\n",
    "        for a, b in zip(start, end):\n",
    "            lst_.append(ra_ * a + rb_ * b)\n",
    "        res.append(lst_)\n",
    "    res.append(end)\n",
    "    return res\n",
    "\n",
    "def makeVectorInterpolation(start, end, size=10):\n",
    "    res = [ start ]\n",
    "    for i in range(size-1):\n",
    "        rb_ = (i + 1)/size\n",
    "        ra_ = (size - i -1)/size\n",
    "        res.append(ra_ * start + rb_ * end)\n",
    "    res.append(end)\n",
    "    return res\n",
    "\n",
    "def makeCoordsInterpolation(start, end, size=10):\n",
    "    res = [ start.copy() ]\n",
    "    for i in range(size-1):\n",
    "        ratio_ = (i + 1)/size\n",
    "        res.append(start.mid_coords(ratio_, end))\n",
    "    res.append(end.copy())\n",
    "    return res"
   ]
  },
  {
   "cell_type": "markdown",
   "id": "6386256c-9f6c-439d-bc71-28f585807c47",
   "metadata": {},
   "source": [
    "### カメラ位置の設定"
   ]
  },
  {
   "cell_type": "code",
   "execution_count": 5,
   "id": "23f5b71f-14bf-45d5-a532-f365e739ac51",
   "metadata": {},
   "outputs": [],
   "source": [
    "def setCameraPosition(x, y, theta, z=0.0, eye_height=1.7, view_height=0.7, view_x=1.2, view_y=0.0, fov=None, robot=None, robotOffset=[0,0,0.8]):\n",
    "    eye_ = npa([x, y, z + eye_height])\n",
    "    up_ = coordinates.Z\n",
    "    stand_cds = coordinates(npa([x, y, z])).rotate(theta, coordinates.Z)\n",
    "    if robot is not None:\n",
    "        rcds = stand_cds.copy().translate(npa(robotOffset))\n",
    "        robot.rootCoords(rcds)\n",
    "    at_ = stand_cds.transform_vector(npa([view_x, view_y, view_height]))\n",
    "    cam_ = ib.cameraPositionLookingAt(eye_, at_, up_)\n",
    "    ib.setCameraCoords(cam_, fov=fov, opencv=False)"
   ]
  },
  {
   "cell_type": "markdown",
   "id": "ac6d2445-c9f5-4e4e-aa30-0cc87f18595f",
   "metadata": {},
   "source": [
    "### ロボット位置の設定"
   ]
  },
  {
   "cell_type": "code",
   "execution_count": 6,
   "id": "8bf76cf3-0e19-4282-b5c3-f1a02465314f",
   "metadata": {},
   "outputs": [],
   "source": [
    "def setRobotPosition(x, y, theta, z=0.0, robot=None, robotOffset=[0,0,0.8]):\n",
    "    stand_cds = coordinates(npa([x, y, z])).rotate(theta, coordinates.Z)\n",
    "    if robot is not None:\n",
    "        rcds = stand_cds.copy().translate(npa(robotOffset))\n",
    "        robot.rootCoords(rcds)"
   ]
  },
  {
   "cell_type": "code",
   "execution_count": 7,
   "id": "8bc61643-ef4a-4e25-960f-19a4bc004207",
   "metadata": {},
   "outputs": [],
   "source": [
    "def setRobotPosition(x, y, theta, z=0.0, robot=None, robotOffset=[0,0,0.8]):\n",
    "    stand_cds = coordinates(npa([x, y, z])).rotate(theta, coordinates.Z)\n",
    "    if robot is not None:\n",
    "        rcds = stand_cds.copy().translate(npa(robotOffset))\n",
    "        robot.rootCoords(rcds)"
   ]
  },
  {
   "cell_type": "markdown",
   "id": "81372669-984a-407d-89d3-ba029f42d08b",
   "metadata": {},
   "source": [
    "### 位置の取得"
   ]
  },
  {
   "cell_type": "code",
   "execution_count": 70,
   "id": "1871ef0f-f5b7-4bf2-8540-7aadf96d329b",
   "metadata": {},
   "outputs": [],
   "source": [
    "def getPosition(coords):\n",
    "    x = coords.pos[0]\n",
    "    y = coords.pos[1]\n",
    "    theta = coords.RPY[2]\n",
    "    return [x, y, theta]\n",
    "\n",
    "def getCameraPosition():\n",
    "    cds, fov = ib.getCameraCoords()\n",
    "    zz=cds.z_axis\n",
    "    return [ cds.pos[0], cds.pos[1], math.atan2(zz[1], zz[0]) ]\n",
    "\n",
    "def getRobotPosition(robot):\n",
    "    cds = robot.rootCoords()\n",
    "    return getPosition(cds)"
   ]
  },
  {
   "cell_type": "markdown",
   "id": "1feb598f-6148-42cb-824b-f7e762f356ba",
   "metadata": {},
   "source": [
    "### データのセーブロード"
   ]
  },
  {
   "cell_type": "code",
   "execution_count": 100,
   "id": "1e584570-d9b1-4a7f-8dcb-1cda091eafec",
   "metadata": {},
   "outputs": [],
   "source": [
    "import pickle\n",
    "def writeData(fname, robot):\n",
    "    cds_, fov_ = ib.getCameraCoords()\n",
    "    data_ = (getCameraPosition(), getRobotPosition(robot=robot), robot.angleVector(), \n",
    "             ru.make_coords_map(cds_), ru.make_coords_map(robot.rootCoords()), fov_)\n",
    "    with open(fname, mode='wb') as f:\n",
    "        pickle.dump(data_, f)\n",
    "\n",
    "def readData(fname):\n",
    "    res_ = None\n",
    "    with open(fname, mode='rb') as f:\n",
    "        res_ = pickle.load(f)\n",
    "    return res_"
   ]
  },
  {
   "cell_type": "markdown",
   "id": "f3c14562-561a-4d89-8f9f-9fb3a5747fe3",
   "metadata": {},
   "source": [
    "### データを使う"
   ]
  },
  {
   "cell_type": "code",
   "execution_count": 128,
   "id": "d4aa6111-7305-4d48-9d8d-8c5c61e50999",
   "metadata": {},
   "outputs": [],
   "source": [
    "def applyData(data_):\n",
    "    ib.setCameraCoords(ru.make_coordinates(data_[3]))\n",
    "    robot.angleVector(data_[2])\n",
    "    robot.rootCoords(ru.make_coordinates(data_[4]))"
   ]
  },
  {
   "cell_type": "code",
   "execution_count": 146,
   "id": "13dc95d0-a042-4639-81ca-20f0ed274297",
   "metadata": {},
   "outputs": [],
   "source": [
    "def applyOldData(data_):\n",
    "    if len(data_) < 5:\n",
    "        setCameraPosition(*(data_[0]))\n",
    "        setRobotPosition(*(data_[1]), robot=robot)\n",
    "        robot.angleVector(data_[2])"
   ]
  },
  {
   "cell_type": "code",
   "execution_count": 123,
   "id": "bf6029df-8c3b-4d45-84ca-425f5815ea90",
   "metadata": {},
   "outputs": [],
   "source": [
    "#[('file0', 0.1)\n",
    "# ('file1', 0.1)\n",
    "# ('fileN', 0.1)\n",
    "# ]\n",
    "\n",
    "def makeImages(lst, robot=None, rate=10):\n",
    "    if robot is None:\n",
    "        robot = eval('robot')\n",
    "    cntr = 0\n",
    "    prev_data_ = readData(lst[0][0])\n",
    "    for fname, tm in lst[1:]:\n",
    "        data_ = readData(fname)\n",
    "        size = int(tm * rate)\n",
    "        # d0 = makeListInterpolation(prev_data_[0], data_[0], size=size)\n",
    "        # d1 = makeListInterpolation(prev_data_[1], data_[1], size=size)\n",
    "        d0 = makeCoordsInterpolation(ru.make_coordinates(prev_data_[3]),\n",
    "                                     ru.make_coordinates(data_[3]), size=size)\n",
    "        d1 = makeCoordsInterpolation(ru.make_coordinates(prev_data_[4]),\n",
    "                                     ru.make_coordinates(data_[4]), size=size)\n",
    "        d2 = makeVectorInterpolation(prev_data_[2], data_[2], size=size)\n",
    "        for l0, l1, v0 in zip(d0, d1, d2):\n",
    "            #setCameraPosition(l0*)\n",
    "            #setRobotPosition(l0*, robot=robot)\n",
    "            print(l0)\n",
    "            print(l1)\n",
    "            print(v0)\n",
    "            ib.setCameraCoords(l0)\n",
    "            robot.rootCoords(l1)\n",
    "            robot.angleVector(v0)\n",
    "            fname='image{:0=6}.png'.format(cntr)\n",
    "            cntr += 1\n",
    "            ib.saveImageOfScene(fname)\n",
    "        prev_data_ = data_"
   ]
  },
  {
   "cell_type": "markdown",
   "id": "d1ff4894-dc38-45f1-a63f-fdd85a1a4226",
   "metadata": {},
   "source": [
    "### 関数の実行"
   ]
  },
  {
   "cell_type": "markdown",
   "id": "c2504e26-8b8a-4cbb-9142-6db239ba388d",
   "metadata": {},
   "source": [
    "カメラ位置"
   ]
  },
  {
   "cell_type": "code",
   "execution_count": 9,
   "id": "a2021614-3839-4aa4-b235-80ce22f04fb0",
   "metadata": {},
   "outputs": [
    {
     "data": {
      "text/plain": [
       "[4.625419607741056, -0.3973106629012421, 1.960796318077717]"
      ]
     },
     "execution_count": 9,
     "metadata": {},
     "output_type": "execute_result"
    }
   ],
   "source": [
    "getCameraPosition()"
   ]
  },
  {
   "cell_type": "markdown",
   "id": "550aee38-7a9e-4b24-805c-72175b3ffe6b",
   "metadata": {},
   "source": [
    "ロボット位置"
   ]
  },
  {
   "cell_type": "code",
   "execution_count": 10,
   "id": "7a6e6c59-fdc8-4d8c-9581-1a8334d8b767",
   "metadata": {},
   "outputs": [
    {
     "data": {
      "text/plain": [
       "[0.0, 0.0, 0.0]"
      ]
     },
     "execution_count": 10,
     "metadata": {},
     "output_type": "execute_result"
    }
   ],
   "source": [
    "getRobotPosition(robot)"
   ]
  },
  {
   "cell_type": "markdown",
   "id": "204986c8-91af-4df6-b7ab-474d9b42cca5",
   "metadata": {},
   "source": [
    "セーブ"
   ]
  },
  {
   "cell_type": "code",
   "execution_count": 141,
   "id": "24b1a0d2-de33-4cb5-aa7f-08bfdaec81d0",
   "metadata": {},
   "outputs": [],
   "source": [
    "ib.saveImageOfScene('scene000.png')"
   ]
  },
  {
   "cell_type": "markdown",
   "id": "8ac1e60c-bad8-4630-b46c-96fdebc8de98",
   "metadata": {},
   "source": [
    "ロボット位置"
   ]
  },
  {
   "cell_type": "code",
   "execution_count": 113,
   "id": "ef5025ed-385a-49ed-9057-e9612b4d472a",
   "metadata": {},
   "outputs": [],
   "source": [
    "setRobotPosition(0, 0, PI/2, robot=robot)"
   ]
  },
  {
   "cell_type": "markdown",
   "id": "ad04c9b9-5ad2-4dae-9664-f96af0e6e37e",
   "metadata": {},
   "source": [
    "カメラ位置"
   ]
  },
  {
   "cell_type": "code",
   "execution_count": 126,
   "id": "9d3d782e-f37c-4393-b3f6-68e27a553312",
   "metadata": {},
   "outputs": [],
   "source": [
    "setCameraPosition(2, 0, PI, )"
   ]
  },
  {
   "cell_type": "markdown",
   "id": "6e947927-a47f-496a-b9f3-9f9107ba1355",
   "metadata": {},
   "source": [
    "ポーズの補間"
   ]
  },
  {
   "cell_type": "code",
   "execution_count": 27,
   "id": "3b9f554b-f37f-46f2-89d5-544b07cf6504",
   "metadata": {},
   "outputs": [],
   "source": [
    "lst=makeRangeList([0,0,0],[0,0,PI], size=20)\n",
    "for idx, l in enumerate(lst):\n",
    "    setRobotPosition(*l, robot=robot)\n",
    "    ib.saveImageOfScene('scene{}.png'.format(idx))"
   ]
  },
  {
   "cell_type": "markdown",
   "id": "8edad723-f2cd-47db-acf6-baf519e43dda",
   "metadata": {},
   "source": [
    "データの保存"
   ]
  },
  {
   "cell_type": "code",
   "execution_count": 101,
   "id": "e9921302-266d-43b3-bf2e-17cc171e3c38",
   "metadata": {},
   "outputs": [],
   "source": [
    "writeData('data000.pyc', robot=robot)"
   ]
  },
  {
   "cell_type": "code",
   "execution_count": 102,
   "id": "8fef715c-4f35-4fbc-9461-8b27c23836f7",
   "metadata": {},
   "outputs": [
    {
     "data": {
      "text/plain": [
       "([2.0, 0.0, 3.141592653589793], [0.0, 0.0, 1.5707963267948963], array([0.        , 0.        , 0.        , 0.        , 0.        ,\n",
       "       0.        , 0.        , 0.        , 0.        , 0.        ,\n",
       "       0.        , 0.        , 0.        , 0.        , 0.06212983,\n",
       "       0.        , 0.        , 0.        , 0.        , 0.        ,\n",
       "       0.        , 0.        , 0.        , 0.        , 0.        ,\n",
       "       0.        , 0.        , 0.        , 0.        , 0.        ,\n",
       "       0.        , 0.        , 0.        , 0.        , 0.        ,\n",
       "       0.        , 0.        , 0.        , 0.        , 0.        ,\n",
       "       0.        , 0.        , 0.        , 0.        ]), {'pos': [2.0, 0.0, 1.7], 'aa': [-0.6712505373490204, -0.6712505373490202, 0.3143969341728753, 2.5323684502952744]}, {'pos': [0.0, 0.0, 0.8], 'aa': [0.0, 0.0, 1.0, 1.5707963267948966]}, 0.75)"
      ]
     },
     "execution_count": 102,
     "metadata": {},
     "output_type": "execute_result"
    }
   ],
   "source": [
    "readData('data000.pyc')"
   ]
  },
  {
   "cell_type": "markdown",
   "id": "7b4cd570-dadd-4d89-b7ab-6cdc38d5b0a6",
   "metadata": {},
   "source": [
    "画像サイズのセット"
   ]
  },
  {
   "cell_type": "code",
   "execution_count": 140,
   "id": "0d04d975-34b8-4ab5-a6ca-76624c932e25",
   "metadata": {},
   "outputs": [],
   "source": [
    "ib.currentSceneWidget().setScreenSize(800,600)"
   ]
  }
 ],
 "metadata": {
  "kernelspec": {
   "display_name": "Choreonoid",
   "language": "python",
   "name": "choreonoid"
  },
  "language_info": {
   "codemirror_mode": "",
   "file_extension": ".py",
   "mimetype": "text/x-python",
   "name": "python",
   "nbconvert_exporter": "",
   "pygments_lexer": "",
   "version": "3.7"
  }
 },
 "nbformat": 4,
 "nbformat_minor": 5
}
