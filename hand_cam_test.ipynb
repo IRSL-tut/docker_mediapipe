{
 "cells": [
  {
   "cell_type": "code",
   "execution_count": 1,
   "id": "2d737543-3e82-417c-964d-0648fa9d9e15",
   "metadata": {},
   "outputs": [],
   "source": [
    "exec(open('/choreonoid_ws/install/share/irsl_choreonoid/sample/irsl_import.py').read())"
   ]
  },
  {
   "cell_type": "code",
   "execution_count": 2,
   "id": "fb4af9f7-6b63-471c-986c-60b07bf37724",
   "metadata": {},
   "outputs": [],
   "source": [
    "import cv2\n",
    "import numpy as np\n",
    "from mppack import mp_hand\n",
    "from mppack import mp_pose\n",
    "from mppack import camera_capture"
   ]
  },
  {
   "cell_type": "code",
   "execution_count": 3,
   "id": "ffc70661-292f-40a2-acde-d3c6eb0b4fc8",
   "metadata": {},
   "outputs": [],
   "source": [
    "camera_matrix = np.array([[630.408201, 0.000000, 408.395562],\n",
    "                          [0.000000, 628.574130, 296.839336],\n",
    "                          [0.000000, 0.000000, 1.000000]], dtype='float64')\n",
    "distortion = np.array([0.018656, 0.034678, 0.002943, -0.004527, 0.000000], dtype='float64')\n",
    "projection_matrix = np.array([[647.145834, 0.000000, 404.360305, 0.000000],\n",
    "                              [0.000000, 647.276761, 298.733318, 0.000000],\n",
    "                              [0.000000, 0.000000, 1.000000, 0.000000]], dtype='float64')\n",
    "#\n",
    "cap = camera_capture.CvCapture(-1) ## create instance without opening camera device\n",
    "cap.set_camera_parameters(camera_matrix=camera_matrix, distortion=distortion, projection_matrix=projection_matrix)\n"
   ]
  },
  {
   "cell_type": "code",
   "execution_count": 15,
   "id": "3da764bc-6977-47d2-918e-0e2e58f0def2",
   "metadata": {},
   "outputs": [],
   "source": [
    "di=DrawInterface()"
   ]
  },
  {
   "cell_type": "code",
   "execution_count": 5,
   "id": "08ae3287-2891-402d-bbd1-3f8f261eed9a",
   "metadata": {},
   "outputs": [
    {
     "data": {
      "text/plain": [
       "(600, 800, 3)"
      ]
     },
     "execution_count": 5,
     "metadata": {},
     "output_type": "execute_result"
    }
   ],
   "source": [
    "img=cv2.imread('d040.png')\n",
    "img.shape"
   ]
  },
  {
   "cell_type": "code",
   "execution_count": 6,
   "id": "383b5def-f624-44e5-a8f1-bd0c8759e08f",
   "metadata": {},
   "outputs": [],
   "source": [
    "img_und = cap.undistort_image(img) "
   ]
  },
  {
   "cell_type": "code",
   "execution_count": 34,
   "id": "abd767dd-34af-4143-9299-6605a2a44dcd",
   "metadata": {},
   "outputs": [],
   "source": [
    "hand_recog = mp_hand.MPHand(max_num_hands=1, running_mode='IMAGE')\n",
    "hand_recog.set_image(img_und)"
   ]
  },
  {
   "cell_type": "code",
   "execution_count": 35,
   "id": "3e04219b-9f98-453e-8a78-4dfd27b0168a",
   "metadata": {},
   "outputs": [],
   "source": [
    "hand_recog.set_image(img)"
   ]
  },
  {
   "cell_type": "code",
   "execution_count": 36,
   "id": "d3e1e054-7a59-40e0-9c3f-47827ad33624",
   "metadata": {},
   "outputs": [
    {
     "data": {
      "text/plain": [
       "array([[[ 6.75636292e-01,  5.71969867e-01,  1.65563222e-07],\n",
       "        [ 6.24054909e-01,  5.23184657e-01, -2.79416945e-02],\n",
       "        [ 5.78732789e-01,  4.53808069e-01, -4.82919924e-02],\n",
       "        [ 5.36358595e-01,  4.01622295e-01, -6.90363348e-02],\n",
       "        [ 4.96609330e-01,  3.66026700e-01, -9.13592428e-02],\n",
       "        [ 6.44501865e-01,  3.28187764e-01, -2.59977225e-02],\n",
       "        [ 6.21362209e-01,  2.35870466e-01, -4.68037650e-02],\n",
       "        [ 6.12001419e-01,  1.77634776e-01, -6.63617477e-02],\n",
       "        [ 6.07738674e-01,  1.30380705e-01, -8.21409523e-02],\n",
       "        [ 6.94226742e-01,  3.19037318e-01, -3.09253242e-02],\n",
       "        [ 7.02552676e-01,  2.06594437e-01, -4.82720509e-02],\n",
       "        [ 7.10057914e-01,  1.39293179e-01, -6.43120930e-02],\n",
       "        [ 7.15005159e-01,  8.74153972e-02, -7.82419369e-02],\n",
       "        [ 7.37931788e-01,  3.40331882e-01, -4.00935821e-02],\n",
       "        [ 7.62502134e-01,  2.36487508e-01, -6.10135905e-02],\n",
       "        [ 7.78159320e-01,  1.73642680e-01, -7.96427578e-02],\n",
       "        [ 7.91016579e-01,  1.21204898e-01, -9.32358429e-02],\n",
       "        [ 7.76314080e-01,  3.84648144e-01, -5.18683232e-02],\n",
       "        [ 8.19036245e-01,  3.25545728e-01, -6.86653182e-02],\n",
       "        [ 8.49298716e-01,  2.90562332e-01, -7.87234530e-02],\n",
       "        [ 8.73778701e-01,  2.55288869e-01, -8.71861205e-02]]])"
      ]
     },
     "execution_count": 36,
     "metadata": {},
     "output_type": "execute_result"
    }
   ],
   "source": [
    "lmarks = hand_recog.get_landmarks()\n",
    "lmarks"
   ]
  },
  {
   "cell_type": "code",
   "execution_count": 57,
   "id": "8697baa9-5f67-42ea-b1de-e94d289e8672",
   "metadata": {},
   "outputs": [
    {
     "data": {
      "text/plain": [
       "[0.4000000165563222, 0.3972058305516839, 0.3951708007603884, 0.3930963665246964, 0.39086407572031023, 0.3974002277478576, 0.39531962350010874, 0.3933638252317906, 0.3917859047651291, 0.3969074675813318, 0.39517279490828516, 0.39356879070401196, 0.39217580631375315, 0.3959906417876482, 0.3938986409455538, 0.3920357242226601, 0.39067641571164136, 0.3948131676763296, 0.3931334681808949, 0.3921276547014714, 0.3912813879549504]\n",
       "\n",
       "[array([540.5090332 , 343.18192005]), array([499.243927  , 313.91079426]), array([462.98623085, 272.28484154]), array([429.08687592, 240.97337723]), array([397.28746414, 219.61601973]), array([515.60149193, 196.91265821]), array([497.08976746, 141.52227938]), array([489.60113525, 106.58086538]), array([486.19093895,  78.228423  ]), array([555.38139343, 191.42239094]), array([562.04214096, 123.95666242]), array([568.04633141,  83.57590735]), array([572.0041275,  52.4492383]), array([590.34543037, 204.19912934]), array([610.00170708, 141.89250469]), array([622.52745628, 104.18560803]), array([632.81326294,  72.72293866]), array([621.05126381, 230.78888655]), array([655.22899628, 195.32743692]), array([679.43897247, 174.33739901]), array([699.02296066, 153.17332149])]"
      ]
     },
     "execution_count": 57,
     "metadata": {},
     "output_type": "execute_result"
    }
   ],
   "source": [
    "uv_points = lmarks[0]\n",
    "scale = 0.1 ### depthのスケーリング\n",
    "nominal_depth = 0.4 ### 深さ方向の位置（手とカメラの位置関係）\n",
    "depth_list = [ p[2]*scale + nominal_depth for p in lmarks[0] ]\n",
    "uv_points = [ npa((p[0]*800, p[1]*600)) for p in uv_points ]\n",
    "depth_list\n",
    "uv_points"
   ]
  },
  {
   "cell_type": "code",
   "execution_count": 58,
   "id": "909807e8-e0c6-4dc7-a027-bc34f5ad7359",
   "metadata": {},
   "outputs": [
    {
     "data": {
      "text/plain": [
       "[array([0.08415336, 0.02746807, 0.40000002]), array([0.05823777, 0.00931376, 0.39720583]), array([ 0.03579912, -0.01614714,  0.3951708 ]), array([ 0.01501968, -0.03507808,  0.39309637]), array([-0.00427186, -0.04777571,  0.39086408]), array([ 0.06831115, -0.06251353,  0.39740023]), array([ 0.05664531, -0.09601551,  0.39531962]), array([ 0.05181314, -0.11677512,  0.39336383]), array([ 0.04954075, -0.13346796,  0.3917859 ]), array([ 0.09262425, -0.06580262,  0.39690747]), array([ 0.09628675, -0.10670394,  0.39517279]), array([ 0.09954744, -0.13082386,  0.39356879]), array([ 0.10159356, -0.14922003,  0.39217581]), array([ 0.1138049 , -0.05783408,  0.39599064]), array([ 0.12516787, -0.09544508,  0.39389864]), array([ 0.1321639 , -0.11783159,  0.39203572]), array([ 0.1379151 , -0.13641294,  0.39067642]), array([ 0.13219964, -0.04144341,  0.39481317]), array([ 0.15239977, -0.06280515,  0.39313347]), array([ 0.16667951, -0.07536047,  0.39212765]), array([ 0.17816079, -0.0879916 ,  0.39128139])]"
      ]
     },
     "execution_count": 58,
     "metadata": {},
     "output_type": "execute_result"
    }
   ],
   "source": [
    "points3d = cap.unproject_points(uv_points, depth_list=depth_list)\n",
    "points3d"
   ]
  },
  {
   "cell_type": "code",
   "execution_count": 59,
   "id": "53c541b0-da4d-4bae-b120-01aecc6067f6",
   "metadata": {},
   "outputs": [],
   "source": [
    "pts=mkshapes.makePoints(points3d)\n",
    "#pts=mkshapes.makePoints(npa(lmarks[0], dtype='float32'))\n",
    "#pts=mkshapes.makePoints([ npa((p[0], p[1], 0.5)) for p in lmarks[0] ])"
   ]
  },
  {
   "cell_type": "code",
   "execution_count": 60,
   "id": "5e79aecc-9174-4563-9ef1-e87bd1c69a8b",
   "metadata": {},
   "outputs": [],
   "source": [
    "di.clear()\n",
    "di.addObject(pts)"
   ]
  },
  {
   "cell_type": "code",
   "execution_count": null,
   "id": "07b2b35c-ef2a-4529-93d9-001191496a67",
   "metadata": {},
   "outputs": [],
   "source": []
  }
 ],
 "metadata": {
  "kernelspec": {
   "display_name": "Choreonoid",
   "language": "python",
   "name": "choreonoid"
  },
  "language_info": {
   "codemirror_mode": "",
   "file_extension": ".py",
   "mimetype": "text/x-python",
   "name": "python",
   "nbconvert_exporter": "",
   "pygments_lexer": "",
   "version": "3.7"
  }
 },
 "nbformat": 4,
 "nbformat_minor": 5
}
