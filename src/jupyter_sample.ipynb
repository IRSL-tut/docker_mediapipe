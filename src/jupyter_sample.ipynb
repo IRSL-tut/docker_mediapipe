{
 "cells": [
  {
   "cell_type": "code",
   "execution_count": 1,
   "id": "edf8d524-2bee-4178-bba9-0bd9bf171d03",
   "metadata": {},
   "outputs": [],
   "source": [
    "import cv2\n",
    "import numpy as np\n",
    "\n",
    "from mppack import mp_hand\n",
    "from mppack import camera_capture"
   ]
  },
  {
   "cell_type": "code",
   "execution_count": 2,
   "id": "96f35f6b-fd76-4a0e-8ae8-db49b89666dd",
   "metadata": {},
   "outputs": [],
   "source": [
    "cap = camera_capture.CvCapture(0)"
   ]
  },
  {
   "cell_type": "code",
   "execution_count": 13,
   "id": "6e0b8458-fc2c-4e52-882b-c550e8910908",
   "metadata": {},
   "outputs": [],
   "source": [
    "img = cap.capture()"
   ]
  },
  {
   "cell_type": "code",
   "execution_count": 14,
   "id": "4f157617-c084-46e4-9a64-2fc961e7c520",
   "metadata": {},
   "outputs": [
    {
     "data": {
      "text/plain": [
       "-1"
      ]
     },
     "execution_count": 14,
     "metadata": {},
     "output_type": "execute_result"
    }
   ],
   "source": [
    "cap.show(img)"
   ]
  },
  {
   "cell_type": "code",
   "execution_count": 9,
   "id": "6189cbef-34c1-4919-80ff-1046a0682b5f",
   "metadata": {},
   "outputs": [
    {
     "name": "stderr",
     "output_type": "stream",
     "text": [
      "WARNING: All log messages before absl::InitializeLog() is called are written to STDERR\n",
      "W0000 00:00:1698049098.551745     201 gesture_recognizer_graph.cc:129] Hand Gesture Recognizer contains CPU only ops. Sets HandGestureRecognizerGraph acceleration to Xnnpack.\n",
      "I0000 00:00:1698049098.553295     201 hand_gesture_recognizer_graph.cc:250] Custom gesture classifier is not defined.\n",
      "INFO: Created TensorFlow Lite XNNPACK delegate for CPU.\n"
     ]
    }
   ],
   "source": [
    "hands = mp_hand.MPHand(max_num_hands=1) # 手の認識モデル生成"
   ]
  },
  {
   "cell_type": "code",
   "execution_count": 10,
   "id": "361440de-3eef-47d6-b661-6f875e91b643",
   "metadata": {},
   "outputs": [],
   "source": [
    "hands.set_image(img)"
   ]
  },
  {
   "cell_type": "code",
   "execution_count": 11,
   "id": "307b9704-e7a9-4abb-bcea-77d7ee7ee608",
   "metadata": {},
   "outputs": [],
   "source": [
    "res = hands.get_results()"
   ]
  },
  {
   "cell_type": "code",
   "execution_count": 12,
   "id": "af61629a-ebf2-4a71-829c-d0645bcd76f7",
   "metadata": {},
   "outputs": [
    {
     "data": {
      "text/plain": [
       "GestureRecognizerResult(gestures=[[Category(index=-1, score=0.5787420868873596, display_name='', category_name='None')]], handedness=[[Category(index=1, score=0.9429583549499512, display_name='Left', category_name='Left')]], hand_landmarks=[[NormalizedLandmark(x=0.5907468199729919, y=0.3117005527019501, z=4.0202579043580045e-07, visibility=0.0, presence=0.0), NormalizedLandmark(x=0.6707817316055298, y=0.37861233949661255, z=-0.049356285482645035, visibility=0.0, presence=0.0), NormalizedLandmark(x=0.7150101661682129, y=0.47649693489074707, z=-0.07615784555673599, visibility=0.0, presence=0.0), NormalizedLandmark(x=0.7244813442230225, y=0.5663400888442993, z=-0.09797821938991547, visibility=0.0, presence=0.0), NormalizedLandmark(x=0.7326533198356628, y=0.6467319130897522, z=-0.1186976209282875, visibility=0.0, presence=0.0), NormalizedLandmark(x=0.5967185497283936, y=0.6157841086387634, z=-0.041510287672281265, visibility=0.0, presence=0.0), NormalizedLandmark(x=0.5822081565856934, y=0.7353405356407166, z=-0.06961986422538757, visibility=0.0, presence=0.0), NormalizedLandmark(x=0.5727828741073608, y=0.8110229969024658, z=-0.09496631473302841, visibility=0.0, presence=0.0), NormalizedLandmark(x=0.563964307308197, y=0.8757354021072388, z=-0.11385156959295273, visibility=0.0, presence=0.0), NormalizedLandmark(x=0.5399229526519775, y=0.6056544780731201, z=-0.03826097771525383, visibility=0.0, presence=0.0), NormalizedLandmark(x=0.49335241317749023, y=0.7269975543022156, z=-0.059928592294454575, visibility=0.0, presence=0.0), NormalizedLandmark(x=0.4668106436729431, y=0.8036039471626282, z=-0.08042876422405243, visibility=0.0, presence=0.0), NormalizedLandmark(x=0.4429134130477905, y=0.8674778342247009, z=-0.09661204367876053, visibility=0.0, presence=0.0), NormalizedLandmark(x=0.4994194209575653, y=0.5699507594108582, z=-0.04146280512213707, visibility=0.0, presence=0.0), NormalizedLandmark(x=0.44471555948257446, y=0.668986439704895, z=-0.063839852809906, visibility=0.0, presence=0.0), NormalizedLandmark(x=0.41106468439102173, y=0.7307115197181702, z=-0.08186280727386475, visibility=0.0, presence=0.0), NormalizedLandmark(x=0.3818284869194031, y=0.7861391305923462, z=-0.09524741023778915, visibility=0.0, presence=0.0), NormalizedLandmark(x=0.46902722120285034, y=0.5161091089248657, z=-0.049507126212120056, visibility=0.0, presence=0.0), NormalizedLandmark(x=0.4223150908946991, y=0.5860939621925354, z=-0.06872081011533737, visibility=0.0, presence=0.0), NormalizedLandmark(x=0.3941616415977478, y=0.629092812538147, z=-0.07801453769207001, visibility=0.0, presence=0.0), NormalizedLandmark(x=0.36919105052948, y=0.6711124181747437, z=-0.08492831140756607, visibility=0.0, presence=0.0)]], hand_world_landmarks=[[Landmark(x=0.028760656714439392, y=-0.08366287499666214, z=0.0348975732922554, visibility=0.0, presence=0.0), Landmark(x=0.048425447195768356, y=-0.05595137178897858, z=0.019526850432157516, visibility=0.0, presence=0.0), Landmark(x=0.0600128173828125, y=-0.034081894904375076, z=0.003630015067756176, visibility=0.0, presence=0.0), Landmark(x=0.06873565167188644, y=-0.006712555885314941, z=-0.02049790695309639, visibility=0.0, presence=0.0), Landmark(x=0.0704922154545784, y=0.022195428609848022, z=-0.0361609123647213, visibility=0.0, presence=0.0), Landmark(x=0.026333030313253403, y=0.009388403967022896, z=0.0009392411448061466, visibility=0.0, presence=0.0), Landmark(x=0.018682638183236122, y=0.03915147855877876, z=-0.006470473483204842, visibility=0.0, presence=0.0), Landmark(x=0.01685057207942009, y=0.05932863801717758, z=-0.015751242637634277, visibility=0.0, presence=0.0), Landmark(x=0.018650325015187263, y=0.07361847907304764, z=-0.045402854681015015, visibility=0.0, presence=0.0), Landmark(x=0.0023051556199789047, y=0.006372436415404081, z=0.004506479948759079, visibility=0.0, presence=0.0), Landmark(x=-0.016917120665311813, y=0.03869881108403206, z=-0.008984803222119808, visibility=0.0, presence=0.0), Landmark(x=-0.021225757896900177, y=0.05995410308241844, z=-0.026430809870362282, visibility=0.0, presence=0.0), Landmark(x=-0.026145005598664284, y=0.07895971089601517, z=-0.04838354140520096, visibility=0.0, presence=0.0), Landmark(x=-0.018648846074938774, y=-0.004870266653597355, z=-0.0008157375268638134, visibility=0.0, presence=0.0), Landmark(x=-0.03321397304534912, y=0.018529685214161873, z=-0.013712073676288128, visibility=0.0, presence=0.0), Landmark(x=-0.041311945766210556, y=0.03786075860261917, z=-0.03278825804591179, visibility=0.0, presence=0.0), Landmark(x=-0.049977321177721024, y=0.053807683289051056, z=-0.04815717041492462, visibility=0.0, presence=0.0), Landmark(x=-0.02350649982690811, y=-0.02354760468006134, z=-0.003959035500884056, visibility=0.0, presence=0.0), Landmark(x=-0.04000025987625122, y=-0.006094225682318211, z=-0.00930964294821024, visibility=0.0, presence=0.0), Landmark(x=-0.0503050871193409, y=0.008811375126242638, z=-0.02305530570447445, visibility=0.0, presence=0.0), Landmark(x=-0.05523191764950752, y=0.0216286089271307, z=-0.04259713366627693, visibility=0.0, presence=0.0)]])"
      ]
     },
     "execution_count": 12,
     "metadata": {},
     "output_type": "execute_result"
    }
   ],
   "source": [
    "res"
   ]
  },
  {
   "cell_type": "code",
   "execution_count": null,
   "id": "e574b5bb-fb0f-491c-b3bf-960fc944b2b5",
   "metadata": {},
   "outputs": [],
   "source": []
  }
 ],
 "metadata": {
  "kernelspec": {
   "display_name": "Python 3 (ipykernel)",
   "language": "python",
   "name": "python3"
  },
  "language_info": {
   "codemirror_mode": {
    "name": "ipython",
    "version": 3
   },
   "file_extension": ".py",
   "mimetype": "text/x-python",
   "name": "python",
   "nbconvert_exporter": "python",
   "pygments_lexer": "ipython3",
   "version": "3.8.10"
  }
 },
 "nbformat": 4,
 "nbformat_minor": 5
}
